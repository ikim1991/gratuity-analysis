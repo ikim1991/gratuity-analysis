{
 "cells": [
  {
   "cell_type": "code",
   "execution_count": 1,
   "metadata": {},
   "outputs": [],
   "source": [
    "## Import Libraries\n",
    "import pandas as pd\n",
    "import numpy as np\n",
    "import math\n",
    "import matplotlib.pyplot as plt\n",
    "import seaborn as sns"
   ]
  },
  {
   "cell_type": "code",
   "execution_count": 2,
   "metadata": {},
   "outputs": [],
   "source": [
    "## Import Datasets from CSV files\n",
    "day = pd.read_csv('./day.csv', usecols=['Day', 'Tips', 'Cash Amount', 'Sales'])\n",
    "night = pd.read_csv('./night.csv', usecols=['Day', 'Tips', 'Cash Amount', 'Sales'])\n",
    "double = pd.read_csv('./double.csv', usecols=['Day', 'Tips', 'Cash Amount', 'Sales'])"
   ]
  },
  {
   "cell_type": "code",
   "execution_count": 3,
   "metadata": {},
   "outputs": [
    {
     "name": "stdout",
     "output_type": "stream",
     "text": [
      "<class 'pandas.core.frame.DataFrame'>\n",
      "RangeIndex: 47 entries, 0 to 46\n",
      "Data columns (total 4 columns):\n",
      "Day            47 non-null object\n",
      "Tips           47 non-null float64\n",
      "Cash Amount    47 non-null float64\n",
      "Sales          47 non-null float64\n",
      "dtypes: float64(3), object(1)\n",
      "memory usage: 1.5+ KB\n"
     ]
    }
   ],
   "source": [
    "day.info()"
   ]
  },
  {
   "cell_type": "code",
   "execution_count": 4,
   "metadata": {},
   "outputs": [
    {
     "name": "stdout",
     "output_type": "stream",
     "text": [
      "<class 'pandas.core.frame.DataFrame'>\n",
      "RangeIndex: 72 entries, 0 to 71\n",
      "Data columns (total 4 columns):\n",
      "Day            72 non-null object\n",
      "Tips           72 non-null float64\n",
      "Cash Amount    72 non-null float64\n",
      "Sales          72 non-null float64\n",
      "dtypes: float64(3), object(1)\n",
      "memory usage: 2.3+ KB\n"
     ]
    }
   ],
   "source": [
    "night.info()"
   ]
  },
  {
   "cell_type": "code",
   "execution_count": 5,
   "metadata": {},
   "outputs": [
    {
     "name": "stdout",
     "output_type": "stream",
     "text": [
      "<class 'pandas.core.frame.DataFrame'>\n",
      "RangeIndex: 45 entries, 0 to 44\n",
      "Data columns (total 4 columns):\n",
      "Day            45 non-null object\n",
      "Tips           45 non-null float64\n",
      "Cash Amount    45 non-null float64\n",
      "Sales          45 non-null float64\n",
      "dtypes: float64(3), object(1)\n",
      "memory usage: 1.5+ KB\n"
     ]
    }
   ],
   "source": [
    "double.info()"
   ]
  },
  {
   "cell_type": "code",
   "execution_count": 6,
   "metadata": {},
   "outputs": [],
   "source": [
    "data = day.append(night).append(double)"
   ]
  },
  {
   "cell_type": "code",
   "execution_count": 7,
   "metadata": {},
   "outputs": [
    {
     "data": {
      "text/html": [
       "<div>\n",
       "<style scoped>\n",
       "    .dataframe tbody tr th:only-of-type {\n",
       "        vertical-align: middle;\n",
       "    }\n",
       "\n",
       "    .dataframe tbody tr th {\n",
       "        vertical-align: top;\n",
       "    }\n",
       "\n",
       "    .dataframe thead th {\n",
       "        text-align: right;\n",
       "    }\n",
       "</style>\n",
       "<table border=\"1\" class=\"dataframe\">\n",
       "  <thead>\n",
       "    <tr style=\"text-align: right;\">\n",
       "      <th></th>\n",
       "      <th>Tips</th>\n",
       "      <th>Sales</th>\n",
       "    </tr>\n",
       "  </thead>\n",
       "  <tbody>\n",
       "    <tr>\n",
       "      <th>Tips</th>\n",
       "      <td>1.00000</td>\n",
       "      <td>0.94558</td>\n",
       "    </tr>\n",
       "    <tr>\n",
       "      <th>Sales</th>\n",
       "      <td>0.94558</td>\n",
       "      <td>1.00000</td>\n",
       "    </tr>\n",
       "  </tbody>\n",
       "</table>\n",
       "</div>"
      ],
      "text/plain": [
       "          Tips    Sales\n",
       "Tips   1.00000  0.94558\n",
       "Sales  0.94558  1.00000"
      ]
     },
     "execution_count": 7,
     "metadata": {},
     "output_type": "execute_result"
    }
   ],
   "source": [
    "## Check Correlation between Tips and Sales\n",
    "data[['Tips','Sales']].corr()"
   ]
  },
  {
   "cell_type": "code",
   "execution_count": 8,
   "metadata": {},
   "outputs": [
    {
     "data": {
      "text/html": [
       "<table class=\"simpletable\">\n",
       "<caption>OLS Regression Results</caption>\n",
       "<tr>\n",
       "  <th>Dep. Variable:</th>          <td>Sales</td>      <th>  R-squared:         </th> <td>   0.894</td>\n",
       "</tr>\n",
       "<tr>\n",
       "  <th>Model:</th>                   <td>OLS</td>       <th>  Adj. R-squared:    </th> <td>   0.893</td>\n",
       "</tr>\n",
       "<tr>\n",
       "  <th>Method:</th>             <td>Least Squares</td>  <th>  F-statistic:       </th> <td>   1368.</td>\n",
       "</tr>\n",
       "<tr>\n",
       "  <th>Date:</th>             <td>Mon, 30 Sep 2019</td> <th>  Prob (F-statistic):</th> <td>6.76e-81</td>\n",
       "</tr>\n",
       "<tr>\n",
       "  <th>Time:</th>                 <td>01:08:57</td>     <th>  Log-Likelihood:    </th> <td> -999.95</td>\n",
       "</tr>\n",
       "<tr>\n",
       "  <th>No. Observations:</th>      <td>   164</td>      <th>  AIC:               </th> <td>   2004.</td>\n",
       "</tr>\n",
       "<tr>\n",
       "  <th>Df Residuals:</th>          <td>   162</td>      <th>  BIC:               </th> <td>   2010.</td>\n",
       "</tr>\n",
       "<tr>\n",
       "  <th>Df Model:</th>              <td>     1</td>      <th>                     </th>     <td> </td>   \n",
       "</tr>\n",
       "<tr>\n",
       "  <th>Covariance Type:</th>      <td>nonrobust</td>    <th>                     </th>     <td> </td>   \n",
       "</tr>\n",
       "</table>\n",
       "<table class=\"simpletable\">\n",
       "<tr>\n",
       "    <td></td>       <th>coef</th>     <th>std err</th>      <th>t</th>      <th>P>|t|</th>  <th>[0.025</th>    <th>0.975]</th>  \n",
       "</tr>\n",
       "<tr>\n",
       "  <th>const</th> <td>   11.6219</td> <td>   18.957</td> <td>    0.613</td> <td> 0.541</td> <td>  -25.814</td> <td>   49.057</td>\n",
       "</tr>\n",
       "<tr>\n",
       "  <th>x1</th>    <td>    6.8688</td> <td>    0.186</td> <td>   36.987</td> <td> 0.000</td> <td>    6.502</td> <td>    7.236</td>\n",
       "</tr>\n",
       "</table>\n",
       "<table class=\"simpletable\">\n",
       "<tr>\n",
       "  <th>Omnibus:</th>       <td>66.456</td> <th>  Durbin-Watson:     </th> <td>   1.993</td>\n",
       "</tr>\n",
       "<tr>\n",
       "  <th>Prob(Omnibus):</th> <td> 0.000</td> <th>  Jarque-Bera (JB):  </th> <td> 288.299</td>\n",
       "</tr>\n",
       "<tr>\n",
       "  <th>Skew:</th>          <td> 1.466</td> <th>  Prob(JB):          </th> <td>2.49e-63</td>\n",
       "</tr>\n",
       "<tr>\n",
       "  <th>Kurtosis:</th>      <td> 8.796</td> <th>  Cond. No.          </th> <td>    229.</td>\n",
       "</tr>\n",
       "</table><br/><br/>Warnings:<br/>[1] Standard Errors assume that the covariance matrix of the errors is correctly specified."
      ],
      "text/plain": [
       "<class 'statsmodels.iolib.summary.Summary'>\n",
       "\"\"\"\n",
       "                            OLS Regression Results                            \n",
       "==============================================================================\n",
       "Dep. Variable:                  Sales   R-squared:                       0.894\n",
       "Model:                            OLS   Adj. R-squared:                  0.893\n",
       "Method:                 Least Squares   F-statistic:                     1368.\n",
       "Date:                Mon, 30 Sep 2019   Prob (F-statistic):           6.76e-81\n",
       "Time:                        01:08:57   Log-Likelihood:                -999.95\n",
       "No. Observations:                 164   AIC:                             2004.\n",
       "Df Residuals:                     162   BIC:                             2010.\n",
       "Df Model:                           1                                         \n",
       "Covariance Type:            nonrobust                                         \n",
       "==============================================================================\n",
       "                 coef    std err          t      P>|t|      [0.025      0.975]\n",
       "------------------------------------------------------------------------------\n",
       "const         11.6219     18.957      0.613      0.541     -25.814      49.057\n",
       "x1             6.8688      0.186     36.987      0.000       6.502       7.236\n",
       "==============================================================================\n",
       "Omnibus:                       66.456   Durbin-Watson:                   1.993\n",
       "Prob(Omnibus):                  0.000   Jarque-Bera (JB):              288.299\n",
       "Skew:                           1.466   Prob(JB):                     2.49e-63\n",
       "Kurtosis:                       8.796   Cond. No.                         229.\n",
       "==============================================================================\n",
       "\n",
       "Warnings:\n",
       "[1] Standard Errors assume that the covariance matrix of the errors is correctly specified.\n",
       "\"\"\""
      ]
     },
     "execution_count": 8,
     "metadata": {},
     "output_type": "execute_result"
    }
   ],
   "source": [
    "## Summary of linear regression between Tips and Sales\n",
    "import statsmodels.formula.api as sm\n",
    "regression_OLS = sm.OLS(endog = data.Sales, exog = np.append(np.ones((len(data.Tips), 1)), data.Tips.values.reshape(len(data.Tips), 1), axis = 1)).fit()\n",
    "regression_OLS.summary()"
   ]
  },
  {
   "cell_type": "code",
   "execution_count": 9,
   "metadata": {},
   "outputs": [
    {
     "data": {
      "text/plain": [
       "Text(0.5, 1.0, 'Relationship between Tips Earned and Sales')"
      ]
     },
     "execution_count": 9,
     "metadata": {},
     "output_type": "execute_result"
    },
    {
     "data": {
      "image/png": "[encoded data removed]",
      "text/plain": [
       "<Figure size 648x432 with 1 Axes>"
      ]
     },
     "metadata": {
      "needs_background": "light"
     },
     "output_type": "display_data"
    }
   ],
   "source": [
    "## Visualizing the Linear Regression Plot\n",
    "mb = np.polyfit(data['Sales'], data['Tips'], deg=1)\n",
    "x = np.append(data['Sales'].values.reshape(-1,1), np.ones(np.shape(data['Sales'].values.reshape(-1,1))), axis=1)\n",
    "y_pred = np.dot(x, mb)\n",
    "plt.figure(figsize=(9,6))\n",
    "sns.scatterplot(x='Sales', y='Tips', data=data)\n",
    "sns.lineplot(x='Sales', y=y_pred, data=data, color='r')\n",
    "plt.xlabel('Sales')\n",
    "plt.ylabel('Tips')\n",
    "plt.title('Relationship between Tips Earned and Sales')"
   ]
  },
  {
   "cell_type": "code",
   "execution_count": 10,
   "metadata": {},
   "outputs": [],
   "source": [
    "## Accounting for Tip Out and getting the actual Amount of Tips\n",
    "day['Net'] = round(day.Tips - (day.Sales * 0.06) + (day['Cash Amount'] * (np.random.randint(10,19) / 100)), 2)\n",
    "night['Net'] = round(night.Tips - (night.Sales * 0.06) + (night['Cash Amount'] * (np.random.randint(10,19) / 100)), 2)\n",
    "## Categorizing between Day Shift and Night Shift\n",
    "day['Shift'] = 'Day'\n",
    "night['Shift'] = 'Night'"
   ]
  },
  {
   "cell_type": "code",
   "execution_count": 11,
   "metadata": {
    "scrolled": true
   },
   "outputs": [
    {
     "data": {
      "text/html": [
       "<div>\n",
       "<style scoped>\n",
       "    .dataframe tbody tr th:only-of-type {\n",
       "        vertical-align: middle;\n",
       "    }\n",
       "\n",
       "    .dataframe tbody tr th {\n",
       "        vertical-align: top;\n",
       "    }\n",
       "\n",
       "    .dataframe thead th {\n",
       "        text-align: right;\n",
       "    }\n",
       "</style>\n",
       "<table border=\"1\" class=\"dataframe\">\n",
       "  <thead>\n",
       "    <tr style=\"text-align: right;\">\n",
       "      <th></th>\n",
       "      <th>Day</th>\n",
       "      <th>Tips</th>\n",
       "      <th>Cash Amount</th>\n",
       "      <th>Sales</th>\n",
       "      <th>Net</th>\n",
       "      <th>Shift</th>\n",
       "    </tr>\n",
       "  </thead>\n",
       "  <tbody>\n",
       "    <tr>\n",
       "      <th>0</th>\n",
       "      <td>Monday</td>\n",
       "      <td>64.36</td>\n",
       "      <td>0.0</td>\n",
       "      <td>481.58</td>\n",
       "      <td>35.47</td>\n",
       "      <td>Day</td>\n",
       "    </tr>\n",
       "    <tr>\n",
       "      <th>1</th>\n",
       "      <td>Tuesday</td>\n",
       "      <td>70.03</td>\n",
       "      <td>0.0</td>\n",
       "      <td>443.87</td>\n",
       "      <td>43.40</td>\n",
       "      <td>Day</td>\n",
       "    </tr>\n",
       "    <tr>\n",
       "      <th>2</th>\n",
       "      <td>Tuesday</td>\n",
       "      <td>54.63</td>\n",
       "      <td>0.0</td>\n",
       "      <td>361.90</td>\n",
       "      <td>32.92</td>\n",
       "      <td>Day</td>\n",
       "    </tr>\n",
       "    <tr>\n",
       "      <th>3</th>\n",
       "      <td>Tuesday</td>\n",
       "      <td>82.16</td>\n",
       "      <td>0.0</td>\n",
       "      <td>487.27</td>\n",
       "      <td>52.92</td>\n",
       "      <td>Day</td>\n",
       "    </tr>\n",
       "    <tr>\n",
       "      <th>4</th>\n",
       "      <td>Thursday</td>\n",
       "      <td>35.00</td>\n",
       "      <td>0.0</td>\n",
       "      <td>207.87</td>\n",
       "      <td>22.53</td>\n",
       "      <td>Day</td>\n",
       "    </tr>\n",
       "  </tbody>\n",
       "</table>\n",
       "</div>"
      ],
      "text/plain": [
       "        Day   Tips  Cash Amount   Sales    Net Shift\n",
       "0    Monday  64.36          0.0  481.58  35.47   Day\n",
       "1   Tuesday  70.03          0.0  443.87  43.40   Day\n",
       "2   Tuesday  54.63          0.0  361.90  32.92   Day\n",
       "3   Tuesday  82.16          0.0  487.27  52.92   Day\n",
       "4  Thursday  35.00          0.0  207.87  22.53   Day"
      ]
     },
     "execution_count": 11,
     "metadata": {},
     "output_type": "execute_result"
    }
   ],
   "source": [
    "day.head()"
   ]
  },
  {
   "cell_type": "code",
   "execution_count": 12,
   "metadata": {
    "scrolled": true
   },
   "outputs": [
    {
     "data": {
      "text/html": [
       "<div>\n",
       "<style scoped>\n",
       "    .dataframe tbody tr th:only-of-type {\n",
       "        vertical-align: middle;\n",
       "    }\n",
       "\n",
       "    .dataframe tbody tr th {\n",
       "        vertical-align: top;\n",
       "    }\n",
       "\n",
       "    .dataframe thead th {\n",
       "        text-align: right;\n",
       "    }\n",
       "</style>\n",
       "<table border=\"1\" class=\"dataframe\">\n",
       "  <thead>\n",
       "    <tr style=\"text-align: right;\">\n",
       "      <th></th>\n",
       "      <th>Day</th>\n",
       "      <th>Tips</th>\n",
       "      <th>Cash Amount</th>\n",
       "      <th>Sales</th>\n",
       "      <th>Net</th>\n",
       "      <th>Shift</th>\n",
       "    </tr>\n",
       "  </thead>\n",
       "  <tbody>\n",
       "    <tr>\n",
       "      <th>0</th>\n",
       "      <td>Wednesday</td>\n",
       "      <td>75.10</td>\n",
       "      <td>0.00</td>\n",
       "      <td>478.64</td>\n",
       "      <td>46.38</td>\n",
       "      <td>Night</td>\n",
       "    </tr>\n",
       "    <tr>\n",
       "      <th>1</th>\n",
       "      <td>Friday</td>\n",
       "      <td>118.66</td>\n",
       "      <td>124.72</td>\n",
       "      <td>822.18</td>\n",
       "      <td>85.54</td>\n",
       "      <td>Night</td>\n",
       "    </tr>\n",
       "    <tr>\n",
       "      <th>2</th>\n",
       "      <td>Thursday</td>\n",
       "      <td>186.70</td>\n",
       "      <td>160.72</td>\n",
       "      <td>1208.82</td>\n",
       "      <td>135.06</td>\n",
       "      <td>Night</td>\n",
       "    </tr>\n",
       "    <tr>\n",
       "      <th>3</th>\n",
       "      <td>Friday</td>\n",
       "      <td>150.66</td>\n",
       "      <td>175.92</td>\n",
       "      <td>1223.53</td>\n",
       "      <td>100.12</td>\n",
       "      <td>Night</td>\n",
       "    </tr>\n",
       "    <tr>\n",
       "      <th>4</th>\n",
       "      <td>Sunday</td>\n",
       "      <td>18.87</td>\n",
       "      <td>0.00</td>\n",
       "      <td>173.48</td>\n",
       "      <td>8.46</td>\n",
       "      <td>Night</td>\n",
       "    </tr>\n",
       "  </tbody>\n",
       "</table>\n",
       "</div>"
      ],
      "text/plain": [
       "         Day    Tips  Cash Amount    Sales     Net  Shift\n",
       "0  Wednesday   75.10         0.00   478.64   46.38  Night\n",
       "1     Friday  118.66       124.72   822.18   85.54  Night\n",
       "2   Thursday  186.70       160.72  1208.82  135.06  Night\n",
       "3     Friday  150.66       175.92  1223.53  100.12  Night\n",
       "4     Sunday   18.87         0.00   173.48    8.46  Night"
      ]
     },
     "execution_count": 12,
     "metadata": {},
     "output_type": "execute_result"
    }
   ],
   "source": [
    "night.head()"
   ]
  },
  {
   "cell_type": "code",
   "execution_count": 13,
   "metadata": {},
   "outputs": [],
   "source": [
    "## Dictionary for Mapping Day of Week to Numerical Value\n",
    "sort_days = {\n",
    "    'Monday': 0,\n",
    "    'Tuesday': 1,\n",
    "    'Wednesday': 2,\n",
    "    'Thursday': 3,\n",
    "    'Friday': 4,\n",
    "    'Saturday': 5,\n",
    "    'Sunday': 6\n",
    "}"
   ]
  },
  {
   "cell_type": "code",
   "execution_count": 14,
   "metadata": {},
   "outputs": [],
   "source": [
    "## Map Day to Numerical\n",
    "day['NumDay'] = day.Day.map(sort_days)\n",
    "night['NumDay'] = night.Day.map(sort_days)"
   ]
  },
  {
   "cell_type": "code",
   "execution_count": 15,
   "metadata": {},
   "outputs": [],
   "source": [
    "## Sort Dataset by Day of Week\n",
    "day.sort_values('NumDay', inplace=True)\n",
    "night.sort_values('NumDay', inplace=True)"
   ]
  },
  {
   "cell_type": "code",
   "execution_count": 16,
   "metadata": {},
   "outputs": [
    {
     "data": {
      "text/html": [
       "<div>\n",
       "<style scoped>\n",
       "    .dataframe tbody tr th:only-of-type {\n",
       "        vertical-align: middle;\n",
       "    }\n",
       "\n",
       "    .dataframe tbody tr th {\n",
       "        vertical-align: top;\n",
       "    }\n",
       "\n",
       "    .dataframe thead th {\n",
       "        text-align: right;\n",
       "    }\n",
       "</style>\n",
       "<table border=\"1\" class=\"dataframe\">\n",
       "  <thead>\n",
       "    <tr style=\"text-align: right;\">\n",
       "      <th></th>\n",
       "      <th>Day</th>\n",
       "      <th>Tips</th>\n",
       "      <th>Cash Amount</th>\n",
       "      <th>Sales</th>\n",
       "      <th>Net</th>\n",
       "      <th>Shift</th>\n",
       "      <th>NumDay</th>\n",
       "    </tr>\n",
       "  </thead>\n",
       "  <tbody>\n",
       "    <tr>\n",
       "      <th>0</th>\n",
       "      <td>Monday</td>\n",
       "      <td>64.36</td>\n",
       "      <td>0.00</td>\n",
       "      <td>481.58</td>\n",
       "      <td>35.47</td>\n",
       "      <td>Day</td>\n",
       "      <td>0</td>\n",
       "    </tr>\n",
       "    <tr>\n",
       "      <th>41</th>\n",
       "      <td>Monday</td>\n",
       "      <td>47.95</td>\n",
       "      <td>0.00</td>\n",
       "      <td>255.76</td>\n",
       "      <td>32.60</td>\n",
       "      <td>Day</td>\n",
       "      <td>0</td>\n",
       "    </tr>\n",
       "    <tr>\n",
       "      <th>39</th>\n",
       "      <td>Monday</td>\n",
       "      <td>54.50</td>\n",
       "      <td>24.75</td>\n",
       "      <td>359.83</td>\n",
       "      <td>36.38</td>\n",
       "      <td>Day</td>\n",
       "      <td>0</td>\n",
       "    </tr>\n",
       "    <tr>\n",
       "      <th>5</th>\n",
       "      <td>Monday</td>\n",
       "      <td>75.10</td>\n",
       "      <td>0.00</td>\n",
       "      <td>427.29</td>\n",
       "      <td>49.46</td>\n",
       "      <td>Day</td>\n",
       "      <td>0</td>\n",
       "    </tr>\n",
       "    <tr>\n",
       "      <th>29</th>\n",
       "      <td>Monday</td>\n",
       "      <td>71.02</td>\n",
       "      <td>0.00</td>\n",
       "      <td>394.82</td>\n",
       "      <td>47.33</td>\n",
       "      <td>Day</td>\n",
       "      <td>0</td>\n",
       "    </tr>\n",
       "  </tbody>\n",
       "</table>\n",
       "</div>"
      ],
      "text/plain": [
       "       Day   Tips  Cash Amount   Sales    Net Shift  NumDay\n",
       "0   Monday  64.36         0.00  481.58  35.47   Day       0\n",
       "41  Monday  47.95         0.00  255.76  32.60   Day       0\n",
       "39  Monday  54.50        24.75  359.83  36.38   Day       0\n",
       "5   Monday  75.10         0.00  427.29  49.46   Day       0\n",
       "29  Monday  71.02         0.00  394.82  47.33   Day       0"
      ]
     },
     "execution_count": 16,
     "metadata": {},
     "output_type": "execute_result"
    }
   ],
   "source": [
    "day.head()"
   ]
  },
  {
   "cell_type": "code",
   "execution_count": 17,
   "metadata": {
    "scrolled": true
   },
   "outputs": [
    {
     "data": {
      "text/html": [
       "<div>\n",
       "<style scoped>\n",
       "    .dataframe tbody tr th:only-of-type {\n",
       "        vertical-align: middle;\n",
       "    }\n",
       "\n",
       "    .dataframe tbody tr th {\n",
       "        vertical-align: top;\n",
       "    }\n",
       "\n",
       "    .dataframe thead th {\n",
       "        text-align: right;\n",
       "    }\n",
       "</style>\n",
       "<table border=\"1\" class=\"dataframe\">\n",
       "  <thead>\n",
       "    <tr style=\"text-align: right;\">\n",
       "      <th></th>\n",
       "      <th>Day</th>\n",
       "      <th>Tips</th>\n",
       "      <th>Cash Amount</th>\n",
       "      <th>Sales</th>\n",
       "      <th>Net</th>\n",
       "      <th>Shift</th>\n",
       "      <th>NumDay</th>\n",
       "    </tr>\n",
       "  </thead>\n",
       "  <tbody>\n",
       "    <tr>\n",
       "      <th>69</th>\n",
       "      <td>Monday</td>\n",
       "      <td>131.33</td>\n",
       "      <td>255.43</td>\n",
       "      <td>1006.67</td>\n",
       "      <td>104.14</td>\n",
       "      <td>Night</td>\n",
       "      <td>0</td>\n",
       "    </tr>\n",
       "    <tr>\n",
       "      <th>64</th>\n",
       "      <td>Monday</td>\n",
       "      <td>183.84</td>\n",
       "      <td>11.92</td>\n",
       "      <td>1170.23</td>\n",
       "      <td>115.18</td>\n",
       "      <td>Night</td>\n",
       "      <td>0</td>\n",
       "    </tr>\n",
       "    <tr>\n",
       "      <th>60</th>\n",
       "      <td>Monday</td>\n",
       "      <td>61.55</td>\n",
       "      <td>100.44</td>\n",
       "      <td>552.73</td>\n",
       "      <td>41.44</td>\n",
       "      <td>Night</td>\n",
       "      <td>0</td>\n",
       "    </tr>\n",
       "    <tr>\n",
       "      <th>14</th>\n",
       "      <td>Monday</td>\n",
       "      <td>18.04</td>\n",
       "      <td>0.00</td>\n",
       "      <td>89.79</td>\n",
       "      <td>12.65</td>\n",
       "      <td>Night</td>\n",
       "      <td>0</td>\n",
       "    </tr>\n",
       "    <tr>\n",
       "      <th>22</th>\n",
       "      <td>Monday</td>\n",
       "      <td>26.42</td>\n",
       "      <td>0.00</td>\n",
       "      <td>226.99</td>\n",
       "      <td>12.80</td>\n",
       "      <td>Night</td>\n",
       "      <td>0</td>\n",
       "    </tr>\n",
       "  </tbody>\n",
       "</table>\n",
       "</div>"
      ],
      "text/plain": [
       "       Day    Tips  Cash Amount    Sales     Net  Shift  NumDay\n",
       "69  Monday  131.33       255.43  1006.67  104.14  Night       0\n",
       "64  Monday  183.84        11.92  1170.23  115.18  Night       0\n",
       "60  Monday   61.55       100.44   552.73   41.44  Night       0\n",
       "14  Monday   18.04         0.00    89.79   12.65  Night       0\n",
       "22  Monday   26.42         0.00   226.99   12.80  Night       0"
      ]
     },
     "execution_count": 17,
     "metadata": {},
     "output_type": "execute_result"
    }
   ],
   "source": [
    "night.head()"
   ]
  },
  {
   "cell_type": "code",
   "execution_count": 18,
   "metadata": {},
   "outputs": [
    {
     "data": {
      "text/html": [
       "<div>\n",
       "<style scoped>\n",
       "    .dataframe tbody tr th:only-of-type {\n",
       "        vertical-align: middle;\n",
       "    }\n",
       "\n",
       "    .dataframe tbody tr th {\n",
       "        vertical-align: top;\n",
       "    }\n",
       "\n",
       "    .dataframe thead th {\n",
       "        text-align: right;\n",
       "    }\n",
       "</style>\n",
       "<table border=\"1\" class=\"dataframe\">\n",
       "  <thead>\n",
       "    <tr style=\"text-align: right;\">\n",
       "      <th></th>\n",
       "      <th>Tips</th>\n",
       "      <th>Cash Amount</th>\n",
       "      <th>Sales</th>\n",
       "      <th>Net</th>\n",
       "      <th>NumDay</th>\n",
       "    </tr>\n",
       "  </thead>\n",
       "  <tbody>\n",
       "    <tr>\n",
       "      <th>count</th>\n",
       "      <td>47.000000</td>\n",
       "      <td>47.000000</td>\n",
       "      <td>47.000000</td>\n",
       "      <td>47.000000</td>\n",
       "      <td>47.00000</td>\n",
       "    </tr>\n",
       "    <tr>\n",
       "      <th>mean</th>\n",
       "      <td>55.152766</td>\n",
       "      <td>11.307234</td>\n",
       "      <td>350.558723</td>\n",
       "      <td>35.701915</td>\n",
       "      <td>2.00000</td>\n",
       "    </tr>\n",
       "    <tr>\n",
       "      <th>std</th>\n",
       "      <td>18.151958</td>\n",
       "      <td>24.015196</td>\n",
       "      <td>121.236852</td>\n",
       "      <td>12.051746</td>\n",
       "      <td>1.44463</td>\n",
       "    </tr>\n",
       "    <tr>\n",
       "      <th>min</th>\n",
       "      <td>27.980000</td>\n",
       "      <td>0.000000</td>\n",
       "      <td>191.170000</td>\n",
       "      <td>15.980000</td>\n",
       "      <td>0.00000</td>\n",
       "    </tr>\n",
       "    <tr>\n",
       "      <th>25%</th>\n",
       "      <td>43.575000</td>\n",
       "      <td>0.000000</td>\n",
       "      <td>255.095000</td>\n",
       "      <td>28.130000</td>\n",
       "      <td>1.00000</td>\n",
       "    </tr>\n",
       "    <tr>\n",
       "      <th>50%</th>\n",
       "      <td>50.980000</td>\n",
       "      <td>0.000000</td>\n",
       "      <td>334.670000</td>\n",
       "      <td>33.840000</td>\n",
       "      <td>2.00000</td>\n",
       "    </tr>\n",
       "    <tr>\n",
       "      <th>75%</th>\n",
       "      <td>64.425000</td>\n",
       "      <td>0.000000</td>\n",
       "      <td>413.995000</td>\n",
       "      <td>43.775000</td>\n",
       "      <td>3.00000</td>\n",
       "    </tr>\n",
       "    <tr>\n",
       "      <th>max</th>\n",
       "      <td>113.090000</td>\n",
       "      <td>108.140000</td>\n",
       "      <td>752.990000</td>\n",
       "      <td>73.400000</td>\n",
       "      <td>6.00000</td>\n",
       "    </tr>\n",
       "  </tbody>\n",
       "</table>\n",
       "</div>"
      ],
      "text/plain": [
       "             Tips  Cash Amount       Sales        Net    NumDay\n",
       "count   47.000000    47.000000   47.000000  47.000000  47.00000\n",
       "mean    55.152766    11.307234  350.558723  35.701915   2.00000\n",
       "std     18.151958    24.015196  121.236852  12.051746   1.44463\n",
       "min     27.980000     0.000000  191.170000  15.980000   0.00000\n",
       "25%     43.575000     0.000000  255.095000  28.130000   1.00000\n",
       "50%     50.980000     0.000000  334.670000  33.840000   2.00000\n",
       "75%     64.425000     0.000000  413.995000  43.775000   3.00000\n",
       "max    113.090000   108.140000  752.990000  73.400000   6.00000"
      ]
     },
     "execution_count": 18,
     "metadata": {},
     "output_type": "execute_result"
    }
   ],
   "source": [
    "day.describe()"
   ]
  },
  {
   "cell_type": "code",
   "execution_count": 19,
   "metadata": {},
   "outputs": [
    {
     "data": {
      "text/html": [
       "<div>\n",
       "<style scoped>\n",
       "    .dataframe tbody tr th:only-of-type {\n",
       "        vertical-align: middle;\n",
       "    }\n",
       "\n",
       "    .dataframe tbody tr th {\n",
       "        vertical-align: top;\n",
       "    }\n",
       "\n",
       "    .dataframe thead th {\n",
       "        text-align: right;\n",
       "    }\n",
       "</style>\n",
       "<table border=\"1\" class=\"dataframe\">\n",
       "  <thead>\n",
       "    <tr style=\"text-align: right;\">\n",
       "      <th></th>\n",
       "      <th>Tips</th>\n",
       "      <th>Cash Amount</th>\n",
       "      <th>Sales</th>\n",
       "      <th>Net</th>\n",
       "      <th>NumDay</th>\n",
       "    </tr>\n",
       "  </thead>\n",
       "  <tbody>\n",
       "    <tr>\n",
       "      <th>count</th>\n",
       "      <td>72.000000</td>\n",
       "      <td>72.000000</td>\n",
       "      <td>72.000000</td>\n",
       "      <td>72.000000</td>\n",
       "      <td>72.000000</td>\n",
       "    </tr>\n",
       "    <tr>\n",
       "      <th>mean</th>\n",
       "      <td>93.065139</td>\n",
       "      <td>77.730556</td>\n",
       "      <td>692.187083</td>\n",
       "      <td>61.638194</td>\n",
       "      <td>3.638889</td>\n",
       "    </tr>\n",
       "    <tr>\n",
       "      <th>std</th>\n",
       "      <td>44.167848</td>\n",
       "      <td>82.808944</td>\n",
       "      <td>326.033694</td>\n",
       "      <td>31.970914</td>\n",
       "      <td>1.915876</td>\n",
       "    </tr>\n",
       "    <tr>\n",
       "      <th>min</th>\n",
       "      <td>16.290000</td>\n",
       "      <td>0.000000</td>\n",
       "      <td>89.790000</td>\n",
       "      <td>4.950000</td>\n",
       "      <td>0.000000</td>\n",
       "    </tr>\n",
       "    <tr>\n",
       "      <th>25%</th>\n",
       "      <td>64.125000</td>\n",
       "      <td>0.000000</td>\n",
       "      <td>470.102500</td>\n",
       "      <td>41.680000</td>\n",
       "      <td>2.000000</td>\n",
       "    </tr>\n",
       "    <tr>\n",
       "      <th>50%</th>\n",
       "      <td>90.845000</td>\n",
       "      <td>56.600000</td>\n",
       "      <td>617.570000</td>\n",
       "      <td>56.725000</td>\n",
       "      <td>4.000000</td>\n",
       "    </tr>\n",
       "    <tr>\n",
       "      <th>75%</th>\n",
       "      <td>125.812500</td>\n",
       "      <td>115.797500</td>\n",
       "      <td>961.060000</td>\n",
       "      <td>83.845000</td>\n",
       "      <td>5.000000</td>\n",
       "    </tr>\n",
       "    <tr>\n",
       "      <th>max</th>\n",
       "      <td>186.700000</td>\n",
       "      <td>301.200000</td>\n",
       "      <td>1388.620000</td>\n",
       "      <td>138.780000</td>\n",
       "      <td>6.000000</td>\n",
       "    </tr>\n",
       "  </tbody>\n",
       "</table>\n",
       "</div>"
      ],
      "text/plain": [
       "             Tips  Cash Amount        Sales         Net     NumDay\n",
       "count   72.000000    72.000000    72.000000   72.000000  72.000000\n",
       "mean    93.065139    77.730556   692.187083   61.638194   3.638889\n",
       "std     44.167848    82.808944   326.033694   31.970914   1.915876\n",
       "min     16.290000     0.000000    89.790000    4.950000   0.000000\n",
       "25%     64.125000     0.000000   470.102500   41.680000   2.000000\n",
       "50%     90.845000    56.600000   617.570000   56.725000   4.000000\n",
       "75%    125.812500   115.797500   961.060000   83.845000   5.000000\n",
       "max    186.700000   301.200000  1388.620000  138.780000   6.000000"
      ]
     },
     "execution_count": 19,
     "metadata": {},
     "output_type": "execute_result"
    }
   ],
   "source": [
    "night.describe()"
   ]
  },
  {
   "cell_type": "code",
   "execution_count": 20,
   "metadata": {},
   "outputs": [
    {
     "data": {
      "text/plain": [
       "208.58700000000002"
      ]
     },
     "execution_count": 20,
     "metadata": {},
     "output_type": "execute_result"
    }
   ],
   "source": [
    "day.Sales.quantile(0.05)"
   ]
  },
  {
   "cell_type": "code",
   "execution_count": 21,
   "metadata": {},
   "outputs": [
    {
     "data": {
      "text/plain": [
       "531.935"
      ]
     },
     "execution_count": 21,
     "metadata": {},
     "output_type": "execute_result"
    }
   ],
   "source": [
    "day.Sales.quantile(0.95)"
   ]
  },
  {
   "cell_type": "code",
   "execution_count": 22,
   "metadata": {},
   "outputs": [
    {
     "data": {
      "text/plain": [
       "206.625"
      ]
     },
     "execution_count": 22,
     "metadata": {},
     "output_type": "execute_result"
    }
   ],
   "source": [
    "night.Sales.quantile(0.05)"
   ]
  },
  {
   "cell_type": "code",
   "execution_count": 23,
   "metadata": {},
   "outputs": [
    {
     "data": {
      "text/plain": [
       "1198.942"
      ]
     },
     "execution_count": 23,
     "metadata": {},
     "output_type": "execute_result"
    }
   ],
   "source": [
    "night.Sales.quantile(0.95)"
   ]
  },
  {
   "cell_type": "code",
   "execution_count": 24,
   "metadata": {},
   "outputs": [
    {
     "data": {
      "text/plain": [
       "338.55292682926824"
      ]
     },
     "execution_count": 24,
     "metadata": {},
     "output_type": "execute_result"
    }
   ],
   "source": [
    "## Removing Outliers\n",
    "d = day[(day.Sales > day.Sales.quantile(0.05)) & (day.Sales < day.Sales.quantile(0.95))].Sales.mean()\n",
    "d"
   ]
  },
  {
   "cell_type": "code",
   "execution_count": 25,
   "metadata": {},
   "outputs": [
    {
     "data": {
      "text/plain": [
       "688.3107812500002"
      ]
     },
     "execution_count": 25,
     "metadata": {},
     "output_type": "execute_result"
    }
   ],
   "source": [
    "## Removing Outliers\n",
    "n = night[(night.Sales > night.Sales.quantile(0.05)) & (night.Sales < night.Sales.quantile(0.95))].Sales.mean()\n",
    "n"
   ]
  },
  {
   "cell_type": "code",
   "execution_count": 26,
   "metadata": {},
   "outputs": [
    {
     "data": {
      "text/plain": [
       "2.0330965314534537"
      ]
     },
     "execution_count": 26,
     "metadata": {},
     "output_type": "execute_result"
    }
   ],
   "source": [
    "## Ratio of Average Tips Earned during Night vs Day\n",
    "ratio = n/d\n",
    "ratio"
   ]
  },
  {
   "cell_type": "code",
   "execution_count": 27,
   "metadata": {},
   "outputs": [
    {
     "data": {
      "text/plain": [
       "0.6703039320938453"
      ]
     },
     "execution_count": 27,
     "metadata": {},
     "output_type": "execute_result"
    }
   ],
   "source": [
    "## Night-Day Multiple\n",
    "multiple = n / (n+d)\n",
    "multiple"
   ]
  },
  {
   "cell_type": "code",
   "execution_count": 28,
   "metadata": {},
   "outputs": [],
   "source": [
    "## Copying Double Dataset\n",
    "double_day = double.copy(deep=True)\n",
    "double_night = double.copy(deep=True)"
   ]
  },
  {
   "cell_type": "code",
   "execution_count": 29,
   "metadata": {},
   "outputs": [],
   "source": [
    "## Extrapolating for the Night shifts in the Doubles dataset\n",
    "double_night.Tips = double.Tips * multiple\n",
    "double_night.Sales = double.Sales * multiple\n",
    "double_night['Cash Amount'] = double['Cash Amount'] * multiple"
   ]
  },
  {
   "cell_type": "code",
   "execution_count": 30,
   "metadata": {},
   "outputs": [],
   "source": [
    "## Extrapolating for the Day shifts in the Doubles Dataset\n",
    "double_day.Tips = double.Tips - double_night.Tips\n",
    "double_day.Sales = double.Sales - double_night.Sales\n",
    "double_day['Cash Amount'] = double['Cash Amount'] - double_night['Cash Amount']"
   ]
  },
  {
   "cell_type": "code",
   "execution_count": 31,
   "metadata": {},
   "outputs": [],
   "source": [
    "## Map and Sort by Day\n",
    "double_day['NumDay'] = double_day.Day.map(sort_days)\n",
    "double_day.sort_values('NumDay', inplace=True)\n",
    "double_night['NumDay'] = double_night.Day.map(sort_days)\n",
    "double_night.sort_values('NumDay', inplace=True)"
   ]
  },
  {
   "cell_type": "code",
   "execution_count": 32,
   "metadata": {},
   "outputs": [],
   "source": [
    "## Account for Tip Outs\n",
    "double_day['Net'] = round(double_day.Tips - (double_day.Sales * 0.06) + (double_day['Cash Amount'] * (np.random.randint(10,19) / 100)), 2)\n",
    "double_night['Net'] = round(double_night.Tips - (double_night.Sales * 0.06) + (double_night['Cash Amount'] * (np.random.randint(10,19) / 100)), 2)\n",
    "double_day['Shift'] = 'Day'\n",
    "double_night['Shift'] = 'Night'"
   ]
  },
  {
   "cell_type": "code",
   "execution_count": 33,
   "metadata": {},
   "outputs": [],
   "source": [
    "## Append Extrapolated Data into our Datasets\n",
    "day = day.append(double_day, sort=True)\n",
    "night = night.append(double_night, sort=True)"
   ]
  },
  {
   "cell_type": "code",
   "execution_count": 34,
   "metadata": {},
   "outputs": [],
   "source": [
    "## Consolidate into 1 dataset\n",
    "df = day.append(night)\n",
    "## Create New column for Net Tip Percentage\n",
    "df['Yield'] = df.Net / df.Sales"
   ]
  },
  {
   "cell_type": "code",
   "execution_count": 35,
   "metadata": {},
   "outputs": [
    {
     "name": "stdout",
     "output_type": "stream",
     "text": [
      "<class 'pandas.core.frame.DataFrame'>\n",
      "Int64Index: 209 entries, 0 to 42\n",
      "Data columns (total 8 columns):\n",
      "Cash Amount    209 non-null float64\n",
      "Day            209 non-null object\n",
      "Net            209 non-null float64\n",
      "NumDay         209 non-null int64\n",
      "Sales          209 non-null float64\n",
      "Shift          209 non-null object\n",
      "Tips           209 non-null float64\n",
      "Yield          209 non-null float64\n",
      "dtypes: float64(5), int64(1), object(2)\n",
      "memory usage: 14.7+ KB\n"
     ]
    }
   ],
   "source": [
    "df.info()"
   ]
  },
  {
   "cell_type": "code",
   "execution_count": 36,
   "metadata": {},
   "outputs": [
    {
     "data": {
      "text/html": [
       "<div>\n",
       "<style scoped>\n",
       "    .dataframe tbody tr th:only-of-type {\n",
       "        vertical-align: middle;\n",
       "    }\n",
       "\n",
       "    .dataframe tbody tr th {\n",
       "        vertical-align: top;\n",
       "    }\n",
       "\n",
       "    .dataframe thead th {\n",
       "        text-align: right;\n",
       "    }\n",
       "</style>\n",
       "<table border=\"1\" class=\"dataframe\">\n",
       "  <thead>\n",
       "    <tr style=\"text-align: right;\">\n",
       "      <th></th>\n",
       "      <th>Cash Amount</th>\n",
       "      <th>Net</th>\n",
       "      <th>NumDay</th>\n",
       "      <th>Sales</th>\n",
       "      <th>Tips</th>\n",
       "      <th>Yield</th>\n",
       "    </tr>\n",
       "  </thead>\n",
       "  <tbody>\n",
       "    <tr>\n",
       "      <th>count</th>\n",
       "      <td>209.000000</td>\n",
       "      <td>209.000000</td>\n",
       "      <td>209.000000</td>\n",
       "      <td>209.00000</td>\n",
       "      <td>209.000000</td>\n",
       "      <td>209.000000</td>\n",
       "    </tr>\n",
       "    <tr>\n",
       "      <th>mean</th>\n",
       "      <td>42.468182</td>\n",
       "      <td>47.237799</td>\n",
       "      <td>2.669856</td>\n",
       "      <td>501.60134</td>\n",
       "      <td>71.698278</td>\n",
       "      <td>0.095899</td>\n",
       "    </tr>\n",
       "    <tr>\n",
       "      <th>std</th>\n",
       "      <td>60.818055</td>\n",
       "      <td>25.982728</td>\n",
       "      <td>1.821638</td>\n",
       "      <td>279.50081</td>\n",
       "      <td>37.079030</td>\n",
       "      <td>0.018622</td>\n",
       "    </tr>\n",
       "    <tr>\n",
       "      <th>min</th>\n",
       "      <td>0.000000</td>\n",
       "      <td>4.950000</td>\n",
       "      <td>0.000000</td>\n",
       "      <td>89.79000</td>\n",
       "      <td>16.290000</td>\n",
       "      <td>0.018474</td>\n",
       "    </tr>\n",
       "    <tr>\n",
       "      <th>25%</th>\n",
       "      <td>0.000000</td>\n",
       "      <td>28.400000</td>\n",
       "      <td>1.000000</td>\n",
       "      <td>288.67000</td>\n",
       "      <td>45.000000</td>\n",
       "      <td>0.088297</td>\n",
       "    </tr>\n",
       "    <tr>\n",
       "      <th>50%</th>\n",
       "      <td>18.403635</td>\n",
       "      <td>41.820000</td>\n",
       "      <td>3.000000</td>\n",
       "      <td>426.68000</td>\n",
       "      <td>64.127977</td>\n",
       "      <td>0.098326</td>\n",
       "    </tr>\n",
       "    <tr>\n",
       "      <th>75%</th>\n",
       "      <td>61.060000</td>\n",
       "      <td>60.020000</td>\n",
       "      <td>4.000000</td>\n",
       "      <td>651.25000</td>\n",
       "      <td>92.620000</td>\n",
       "      <td>0.104115</td>\n",
       "    </tr>\n",
       "    <tr>\n",
       "      <th>max</th>\n",
       "      <td>301.200000</td>\n",
       "      <td>138.780000</td>\n",
       "      <td>6.000000</td>\n",
       "      <td>1388.62000</td>\n",
       "      <td>186.700000</td>\n",
       "      <td>0.189732</td>\n",
       "    </tr>\n",
       "  </tbody>\n",
       "</table>\n",
       "</div>"
      ],
      "text/plain": [
       "       Cash Amount         Net      NumDay       Sales        Tips       Yield\n",
       "count   209.000000  209.000000  209.000000   209.00000  209.000000  209.000000\n",
       "mean     42.468182   47.237799    2.669856   501.60134   71.698278    0.095899\n",
       "std      60.818055   25.982728    1.821638   279.50081   37.079030    0.018622\n",
       "min       0.000000    4.950000    0.000000    89.79000   16.290000    0.018474\n",
       "25%       0.000000   28.400000    1.000000   288.67000   45.000000    0.088297\n",
       "50%      18.403635   41.820000    3.000000   426.68000   64.127977    0.098326\n",
       "75%      61.060000   60.020000    4.000000   651.25000   92.620000    0.104115\n",
       "max     301.200000  138.780000    6.000000  1388.62000  186.700000    0.189732"
      ]
     },
     "execution_count": 36,
     "metadata": {},
     "output_type": "execute_result"
    }
   ],
   "source": [
    "df.describe()"
   ]
  },
  {
   "cell_type": "code",
   "execution_count": 37,
   "metadata": {},
   "outputs": [
    {
     "data": {
      "text/plain": [
       "<matplotlib.legend.Legend at 0x223278d45f8>"
      ]
     },
     "execution_count": 37,
     "metadata": {},
     "output_type": "execute_result"
    },
    {
     "data": {
      "image/png": "[encoded data removed]",
      "text/plain": [
       "<Figure size 432x288 with 1 Axes>"
      ]
     },
     "metadata": {
      "needs_background": "light"
     },
     "output_type": "display_data"
    }
   ],
   "source": [
    "sns.distplot(day.Sales, color=sns.xkcd_rgb[\"pastel blue\"])\n",
    "plt.axvline(day.Sales.median(), color='r', linestyle='dashed', label='Median Line')\n",
    "plt.axvline(day.Sales.quantile(0.1), color='g', linestyle='dashed', label='10% Quantile Line')\n",
    "plt.axvline(day.Sales.quantile(0.9), color='b', linestyle='dashed', label='90% Quantile Line')\n",
    "plt.title('Sales Distribution Plot: Day')\n",
    "plt.legend()"
   ]
  },
  {
   "cell_type": "code",
   "execution_count": 38,
   "metadata": {},
   "outputs": [
    {
     "data": {
      "text/plain": [
       "<matplotlib.legend.Legend at 0x22327930a58>"
      ]
     },
     "execution_count": 38,
     "metadata": {},
     "output_type": "execute_result"
    },
    {
     "data": {
      "image/png": "[encoded data removed]",
      "text/plain": [
       "<Figure size 432x288 with 1 Axes>"
      ]
     },
     "metadata": {
      "needs_background": "light"
     },
     "output_type": "display_data"
    }
   ],
   "source": [
    "sns.distplot(night.Sales, color=sns.xkcd_rgb[\"denim blue\"])\n",
    "plt.axvline(night.Sales.median(), color='r', linestyle='dashed', label='Median Line')\n",
    "plt.axvline(night.Sales.quantile(0.1), color='g', linestyle='dashed', label='10% Quantile Line')\n",
    "plt.axvline(night.Sales.quantile(0.9), color='b', linestyle='dashed', label='90% Quantile Line')\n",
    "plt.title('Sales Distribution Plot: Night')\n",
    "plt.legend()"
   ]
  },
  {
   "cell_type": "code",
   "execution_count": 39,
   "metadata": {},
   "outputs": [],
   "source": [
    "plot_data = df.groupby(['Day', 'Shift']).agg({'Tips':'count', 'Sales':'mean', 'NumDay':'mean', 'Net':'mean', 'Yield':'mean'}).sort_values('NumDay').reset_index()"
   ]
  },
  {
   "cell_type": "code",
   "execution_count": 40,
   "metadata": {},
   "outputs": [
    {
     "data": {
      "text/plain": [
       "Text(0.5, 1.0, 'Frequency Chart: Days Worked')"
      ]
     },
     "execution_count": 40,
     "metadata": {},
     "output_type": "execute_result"
    },
    {
     "data": {
      "image/png": "[encoded data removed]",
      "text/plain": [
       "<Figure size 504x360 with 1 Axes>"
      ]
     },
     "metadata": {
      "needs_background": "light"
     },
     "output_type": "display_data"
    }
   ],
   "source": [
    "plt.figure(figsize=(7,5))\n",
    "sns.barplot(x='Day', y='Tips',hue='Shift',data=plot_data, ci=None)\n",
    "plt.xlabel('Day of Week')\n",
    "plt.ylabel('Number of Days Worked')\n",
    "plt.title('Frequency Chart: Days Worked')"
   ]
  },
  {
   "cell_type": "code",
   "execution_count": 41,
   "metadata": {},
   "outputs": [
    {
     "data": {
      "text/html": [
       "<div>\n",
       "<style scoped>\n",
       "    .dataframe tbody tr th:only-of-type {\n",
       "        vertical-align: middle;\n",
       "    }\n",
       "\n",
       "    .dataframe tbody tr th {\n",
       "        vertical-align: top;\n",
       "    }\n",
       "\n",
       "    .dataframe thead tr th {\n",
       "        text-align: left;\n",
       "    }\n",
       "\n",
       "    .dataframe thead tr:last-of-type th {\n",
       "        text-align: right;\n",
       "    }\n",
       "</style>\n",
       "<table border=\"1\" class=\"dataframe\">\n",
       "  <thead>\n",
       "    <tr>\n",
       "      <th></th>\n",
       "      <th colspan=\"7\" halign=\"left\">Net</th>\n",
       "    </tr>\n",
       "    <tr>\n",
       "      <th>NumDay</th>\n",
       "      <th>0</th>\n",
       "      <th>1</th>\n",
       "      <th>2</th>\n",
       "      <th>3</th>\n",
       "      <th>4</th>\n",
       "      <th>5</th>\n",
       "      <th>6</th>\n",
       "    </tr>\n",
       "    <tr>\n",
       "      <th>Day</th>\n",
       "      <th>Monday</th>\n",
       "      <th>Tuesday</th>\n",
       "      <th>Wednesday</th>\n",
       "      <th>Thursday</th>\n",
       "      <th>Friday</th>\n",
       "      <th>Saturday</th>\n",
       "      <th>Sunday</th>\n",
       "    </tr>\n",
       "    <tr>\n",
       "      <th>Shift</th>\n",
       "      <th></th>\n",
       "      <th></th>\n",
       "      <th></th>\n",
       "      <th></th>\n",
       "      <th></th>\n",
       "      <th></th>\n",
       "      <th></th>\n",
       "    </tr>\n",
       "  </thead>\n",
       "  <tbody>\n",
       "    <tr>\n",
       "      <th>Night</th>\n",
       "      <td>56.465294</td>\n",
       "      <td>51.624000</td>\n",
       "      <td>53.263529</td>\n",
       "      <td>65.134737</td>\n",
       "      <td>55.927727</td>\n",
       "      <td>77.463333</td>\n",
       "      <td>52.605714</td>\n",
       "    </tr>\n",
       "    <tr>\n",
       "      <th>Day</th>\n",
       "      <td>33.505714</td>\n",
       "      <td>32.400952</td>\n",
       "      <td>30.351739</td>\n",
       "      <td>27.896875</td>\n",
       "      <td>28.879286</td>\n",
       "      <td>48.507500</td>\n",
       "      <td>48.507500</td>\n",
       "    </tr>\n",
       "  </tbody>\n",
       "</table>\n",
       "</div>"
      ],
      "text/plain": [
       "              Net                                                         \\\n",
       "NumDay          0          1          2          3          4          5   \n",
       "Day        Monday    Tuesday  Wednesday   Thursday     Friday   Saturday   \n",
       "Shift                                                                      \n",
       "Night   56.465294  51.624000  53.263529  65.134737  55.927727  77.463333   \n",
       "Day     33.505714  32.400952  30.351739  27.896875  28.879286  48.507500   \n",
       "\n",
       "                   \n",
       "NumDay          6  \n",
       "Day        Sunday  \n",
       "Shift              \n",
       "Night   52.605714  \n",
       "Day     48.507500  "
      ]
     },
     "execution_count": 41,
     "metadata": {},
     "output_type": "execute_result"
    }
   ],
   "source": [
    "## Transform and Pivot Dataset\n",
    "tips_pivoted = pd.pivot_table(plot_data, index=['Shift'], columns=['NumDay', 'Day'], values=['Net'])\n",
    "tips_pivoted.sort_index(ascending=False, inplace=True)\n",
    "tips_pivoted.fillna(tips_pivoted.iloc[1,-1], inplace=True)\n",
    "tips_pivoted"
   ]
  },
  {
   "cell_type": "code",
   "execution_count": 42,
   "metadata": {},
   "outputs": [
    {
     "data": {
      "text/html": [
       "<div>\n",
       "<style scoped>\n",
       "    .dataframe tbody tr th:only-of-type {\n",
       "        vertical-align: middle;\n",
       "    }\n",
       "\n",
       "    .dataframe tbody tr th {\n",
       "        vertical-align: top;\n",
       "    }\n",
       "\n",
       "    .dataframe thead tr th {\n",
       "        text-align: left;\n",
       "    }\n",
       "\n",
       "    .dataframe thead tr:last-of-type th {\n",
       "        text-align: right;\n",
       "    }\n",
       "</style>\n",
       "<table border=\"1\" class=\"dataframe\">\n",
       "  <thead>\n",
       "    <tr>\n",
       "      <th></th>\n",
       "      <th colspan=\"7\" halign=\"left\">Sales</th>\n",
       "    </tr>\n",
       "    <tr>\n",
       "      <th>NumDay</th>\n",
       "      <th>0</th>\n",
       "      <th>1</th>\n",
       "      <th>2</th>\n",
       "      <th>3</th>\n",
       "      <th>4</th>\n",
       "      <th>5</th>\n",
       "      <th>6</th>\n",
       "    </tr>\n",
       "    <tr>\n",
       "      <th>Day</th>\n",
       "      <th>Monday</th>\n",
       "      <th>Tuesday</th>\n",
       "      <th>Wednesday</th>\n",
       "      <th>Thursday</th>\n",
       "      <th>Friday</th>\n",
       "      <th>Saturday</th>\n",
       "      <th>Sunday</th>\n",
       "    </tr>\n",
       "    <tr>\n",
       "      <th>Shift</th>\n",
       "      <th></th>\n",
       "      <th></th>\n",
       "      <th></th>\n",
       "      <th></th>\n",
       "      <th></th>\n",
       "      <th></th>\n",
       "      <th></th>\n",
       "    </tr>\n",
       "  </thead>\n",
       "  <tbody>\n",
       "    <tr>\n",
       "      <th>Night</th>\n",
       "      <td>583.822406</td>\n",
       "      <td>536.178588</td>\n",
       "      <td>525.884340</td>\n",
       "      <td>665.612229</td>\n",
       "      <td>647.310182</td>\n",
       "      <td>808.055000</td>\n",
       "      <td>714.211953</td>\n",
       "    </tr>\n",
       "    <tr>\n",
       "      <th>Day</th>\n",
       "      <td>339.872793</td>\n",
       "      <td>315.174006</td>\n",
       "      <td>299.882444</td>\n",
       "      <td>275.713602</td>\n",
       "      <td>316.780428</td>\n",
       "      <td>513.988165</td>\n",
       "      <td>513.988165</td>\n",
       "    </tr>\n",
       "  </tbody>\n",
       "</table>\n",
       "</div>"
      ],
      "text/plain": [
       "             Sales                                                  \\\n",
       "NumDay           0           1           2           3           4   \n",
       "Day         Monday     Tuesday   Wednesday    Thursday      Friday   \n",
       "Shift                                                                \n",
       "Night   583.822406  536.178588  525.884340  665.612229  647.310182   \n",
       "Day     339.872793  315.174006  299.882444  275.713602  316.780428   \n",
       "\n",
       "                                \n",
       "NumDay           5           6  \n",
       "Day       Saturday      Sunday  \n",
       "Shift                           \n",
       "Night   808.055000  714.211953  \n",
       "Day     513.988165  513.988165  "
      ]
     },
     "execution_count": 42,
     "metadata": {},
     "output_type": "execute_result"
    }
   ],
   "source": [
    "## Transform and Pivot Dataset\n",
    "sales_pivoted = pd.pivot_table(plot_data, index=['Shift'], columns=['NumDay', 'Day'], values=['Sales'])\n",
    "sales_pivoted.sort_index(ascending=False, inplace=True)\n",
    "sales_pivoted.fillna(sales_pivoted.iloc[1,-1], inplace=True)\n",
    "sales_pivoted"
   ]
  },
  {
   "cell_type": "code",
   "execution_count": 43,
   "metadata": {},
   "outputs": [
    {
     "data": {
      "text/html": [
       "<div>\n",
       "<style scoped>\n",
       "    .dataframe tbody tr th:only-of-type {\n",
       "        vertical-align: middle;\n",
       "    }\n",
       "\n",
       "    .dataframe tbody tr th {\n",
       "        vertical-align: top;\n",
       "    }\n",
       "\n",
       "    .dataframe thead tr th {\n",
       "        text-align: left;\n",
       "    }\n",
       "\n",
       "    .dataframe thead tr:last-of-type th {\n",
       "        text-align: right;\n",
       "    }\n",
       "</style>\n",
       "<table border=\"1\" class=\"dataframe\">\n",
       "  <thead>\n",
       "    <tr>\n",
       "      <th></th>\n",
       "      <th colspan=\"7\" halign=\"left\">Yield</th>\n",
       "    </tr>\n",
       "    <tr>\n",
       "      <th>NumDay</th>\n",
       "      <th>0</th>\n",
       "      <th>1</th>\n",
       "      <th>2</th>\n",
       "      <th>3</th>\n",
       "      <th>4</th>\n",
       "      <th>5</th>\n",
       "      <th>6</th>\n",
       "    </tr>\n",
       "    <tr>\n",
       "      <th>Day</th>\n",
       "      <th>Monday</th>\n",
       "      <th>Tuesday</th>\n",
       "      <th>Wednesday</th>\n",
       "      <th>Thursday</th>\n",
       "      <th>Friday</th>\n",
       "      <th>Saturday</th>\n",
       "      <th>Sunday</th>\n",
       "    </tr>\n",
       "    <tr>\n",
       "      <th>Shift</th>\n",
       "      <th></th>\n",
       "      <th></th>\n",
       "      <th></th>\n",
       "      <th></th>\n",
       "      <th></th>\n",
       "      <th></th>\n",
       "      <th></th>\n",
       "    </tr>\n",
       "  </thead>\n",
       "  <tbody>\n",
       "    <tr>\n",
       "      <th>Night</th>\n",
       "      <td>0.099870</td>\n",
       "      <td>0.096768</td>\n",
       "      <td>0.098656</td>\n",
       "      <td>0.097628</td>\n",
       "      <td>0.087668</td>\n",
       "      <td>0.094314</td>\n",
       "      <td>0.073843</td>\n",
       "    </tr>\n",
       "    <tr>\n",
       "      <th>Day</th>\n",
       "      <td>0.103302</td>\n",
       "      <td>0.102981</td>\n",
       "      <td>0.101290</td>\n",
       "      <td>0.099687</td>\n",
       "      <td>0.091488</td>\n",
       "      <td>0.092707</td>\n",
       "      <td>0.092707</td>\n",
       "    </tr>\n",
       "  </tbody>\n",
       "</table>\n",
       "</div>"
      ],
      "text/plain": [
       "           Yield                                                            \n",
       "NumDay         0         1         2         3         4         5         6\n",
       "Day       Monday   Tuesday Wednesday  Thursday    Friday  Saturday    Sunday\n",
       "Shift                                                                       \n",
       "Night   0.099870  0.096768  0.098656  0.097628  0.087668  0.094314  0.073843\n",
       "Day     0.103302  0.102981  0.101290  0.099687  0.091488  0.092707  0.092707"
      ]
     },
     "execution_count": 43,
     "metadata": {},
     "output_type": "execute_result"
    }
   ],
   "source": [
    "yield_pivoted = pd.pivot_table(plot_data, index=['Shift'], columns=['NumDay', 'Day'], values=['Yield'])\n",
    "yield_pivoted.sort_index(ascending=False, inplace=True)\n",
    "yield_pivoted.fillna(yield_pivoted.iloc[1,-1], inplace=True)\n",
    "yield_pivoted"
   ]
  },
  {
   "cell_type": "code",
   "execution_count": 44,
   "metadata": {},
   "outputs": [
    {
     "data": {
      "text/plain": [
       "<matplotlib.legend.Legend at 0x22327ac0e10>"
      ]
     },
     "execution_count": 44,
     "metadata": {},
     "output_type": "execute_result"
    },
    {
     "data": {
      "image/png": "[encoded data removed]",
      "text/plain": [
       "<Figure size 504x360 with 1 Axes>"
      ]
     },
     "metadata": {
      "needs_background": "light"
     },
     "output_type": "display_data"
    }
   ],
   "source": [
    "plt.figure(figsize=(7,5))\n",
    "sns.barplot(x='Sales', y='Day', data=df[df['Shift']=='Day'], ci=None, color=sns.xkcd_rgb[\"pastel blue\"])\n",
    "plt.axvline(day.Sales.mean(), color='r', linestyle='dashed', label='Mean Line')\n",
    "plt.title('Average Sales: Day')\n",
    "plt.legend()"
   ]
  },
  {
   "cell_type": "code",
   "execution_count": 45,
   "metadata": {},
   "outputs": [
    {
     "data": {
      "text/plain": [
       "<matplotlib.legend.Legend at 0x22327b2a550>"
      ]
     },
     "execution_count": 45,
     "metadata": {},
     "output_type": "execute_result"
    },
    {
     "data": {
      "image/png": "[encoded data removed]",
      "text/plain": [
       "<Figure size 504x360 with 1 Axes>"
      ]
     },
     "metadata": {
      "needs_background": "light"
     },
     "output_type": "display_data"
    }
   ],
   "source": [
    "plt.figure(figsize=(7,5))\n",
    "sns.barplot(x='Sales', y='Day', data=df[df['Shift']=='Night'], ci=None, color=sns.xkcd_rgb[\"denim blue\"])\n",
    "plt.axvline(night.Sales.mean(), color='r', linestyle='dashed', label='Mean Line')\n",
    "plt.title('Average Sales: Night')\n",
    "plt.legend()"
   ]
  },
  {
   "cell_type": "code",
   "execution_count": 46,
   "metadata": {},
   "outputs": [
    {
     "data": {
      "text/plain": [
       "[Text(60.0, 0.5, 'Shift'),\n",
       " Text(0.5, 33.0, 'Day of the Week'),\n",
       " Text(0.5, 1.0, 'Average Sales by Day & Week')]"
      ]
     },
     "execution_count": 46,
     "metadata": {},
     "output_type": "execute_result"
    },
    {
     "data": {
      "image/png": "[encoded data removed]",
      "text/plain": [
       "<Figure size 648x432 with 2 Axes>"
      ]
     },
     "metadata": {
      "needs_background": "light"
     },
     "output_type": "display_data"
    }
   ],
   "source": [
    "# Visualizing our Average tips earned by Day of the Week and Shift using Seaborn\n",
    "plt.figure(figsize=(9,6))\n",
    "ax = sns.heatmap(sales_pivoted, annot=True, cmap='YlGnBu', fmt='.3g', center=plot_data.Sales.mean(), xticklabels=['Monday', 'Tuesday', 'Wednesday', 'Thursday', 'Friday', 'Saturday', 'Sunday'], cbar_kws={'label': 'Average Sales'})\n",
    "ax.set(xlabel='Day of the Week', ylabel='Shift', title='Average Sales by Day & Week')"
   ]
  },
  {
   "cell_type": "code",
   "execution_count": 47,
   "metadata": {},
   "outputs": [
    {
     "data": {
      "text/plain": [
       "<matplotlib.legend.Legend at 0x22327c120b8>"
      ]
     },
     "execution_count": 47,
     "metadata": {},
     "output_type": "execute_result"
    },
    {
     "data": {
      "image/png": "[encoded data removed]",
      "text/plain": [
       "<Figure size 504x360 with 1 Axes>"
      ]
     },
     "metadata": {
      "needs_background": "light"
     },
     "output_type": "display_data"
    }
   ],
   "source": [
    "plt.figure(figsize=(7,5))\n",
    "sns.barplot(x='Net', y='Day', data=df[df['Shift']=='Day'], ci=None, color=sns.xkcd_rgb[\"pastel blue\"])\n",
    "plt.axvline(day.Net.mean(), color='r', linestyle='dashed', label='Mean Line')\n",
    "plt.title('Average Net Tips: Day')\n",
    "plt.legend()"
   ]
  },
  {
   "cell_type": "code",
   "execution_count": 48,
   "metadata": {},
   "outputs": [
    {
     "data": {
      "text/plain": [
       "<matplotlib.legend.Legend at 0x22327c78cc0>"
      ]
     },
     "execution_count": 48,
     "metadata": {},
     "output_type": "execute_result"
    },
    {
     "data": {
      "image/png": "[encoded data removed]",
      "text/plain": [
       "<Figure size 504x360 with 1 Axes>"
      ]
     },
     "metadata": {
      "needs_background": "light"
     },
     "output_type": "display_data"
    }
   ],
   "source": [
    "plt.figure(figsize=(7,5))\n",
    "sns.barplot(x='Net', y='Day', data=df[df['Shift']=='Night'], ci=None, color=sns.xkcd_rgb[\"denim blue\"])\n",
    "plt.axvline(night.Net.mean(), color='r', linestyle='dashed', label='Mean Line')\n",
    "plt.title('Average Net Tips: Night')\n",
    "plt.legend()"
   ]
  },
  {
   "cell_type": "code",
   "execution_count": 49,
   "metadata": {},
   "outputs": [
    {
     "data": {
      "text/plain": [
       "[Text(60.0, 0.5, 'Shift'),\n",
       " Text(0.5, 33.0, 'Day of the Week'),\n",
       " Text(0.5, 1.0, 'Average Net Tips by Day & Shift')]"
      ]
     },
     "execution_count": 49,
     "metadata": {},
     "output_type": "execute_result"
    },
    {
     "data": {
      "image/png": "[encoded data removed]",
      "text/plain": [
       "<Figure size 648x432 with 2 Axes>"
      ]
     },
     "metadata": {
      "needs_background": "light"
     },
     "output_type": "display_data"
    }
   ],
   "source": [
    "# Visualizing our Average tips earned by Day of the Week and Shift using Seaborn\n",
    "plt.figure(figsize=(9,6))\n",
    "ax = sns.heatmap(tips_pivoted, annot=True, cmap='YlGnBu', fmt='.3g', center=plot_data.Net.mean(), xticklabels=['Monday', 'Tuesday', 'Wednesday', 'Thursday', 'Friday', 'Saturday', 'Sunday'], cbar_kws={'label': 'Average Net Tips'})\n",
    "ax.set(xlabel='Day of the Week', ylabel='Shift', title='Average Net Tips by Day & Shift')"
   ]
  },
  {
   "cell_type": "code",
   "execution_count": 50,
   "metadata": {},
   "outputs": [
    {
     "data": {
      "text/plain": [
       "[Text(60.0, 0.5, 'Shift'),\n",
       " Text(0.5, 33.0, 'Day of the Week'),\n",
       " Text(0.5, 1.0, 'Average Yield by Day & Shift')]"
      ]
     },
     "execution_count": 50,
     "metadata": {},
     "output_type": "execute_result"
    },
    {
     "data": {
      "image/png": "[encoded data removed]",
      "text/plain": [
       "<Figure size 648x432 with 2 Axes>"
      ]
     },
     "metadata": {
      "needs_background": "light"
     },
     "output_type": "display_data"
    }
   ],
   "source": [
    "# Visualizing our Average tips earned by Day of the Week and Shift using Seaborn\n",
    "plt.figure(figsize=(9,6))\n",
    "ax = sns.heatmap(yield_pivoted, annot=True, cmap='YlGnBu', fmt='.3g', center=plot_data.Yield.mean(), xticklabels=['Monday', 'Tuesday', 'Wednesday', 'Thursday', 'Friday', 'Saturday', 'Sunday'], cbar_kws={'label': 'Average Yield'})\n",
    "ax.set(xlabel='Day of the Week', ylabel='Shift', title='Average Yield by Day & Shift')"
   ]
  },
  {
   "cell_type": "code",
   "execution_count": null,
   "metadata": {},
   "outputs": [],
   "source": []
  }
 ],
 "metadata": {
  "kernelspec": {
   "display_name": "Python 3",
   "language": "python",
   "name": "python3"
  },
  "language_info": {
   "codemirror_mode": {
    "name": "ipython",
    "version": 3
   },
   "file_extension": ".py",
   "mimetype": "text/x-python",
   "name": "python",
   "nbconvert_exporter": "python",
   "pygments_lexer": "ipython3",
   "version": "3.7.3"
  }
 },
 "nbformat": 4,
 "nbformat_minor": 2
}
